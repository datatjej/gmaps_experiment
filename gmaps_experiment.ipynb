{
 "cells": [
  {
   "cell_type": "code",
   "execution_count": 49,
   "metadata": {},
   "outputs": [],
   "source": [
    "from apikey import tova_key\n",
    "import googlemaps\n",
    "from datetime import datetime\n",
    "import json"
   ]
  },
  {
   "cell_type": "code",
   "execution_count": 50,
   "metadata": {},
   "outputs": [],
   "source": [
    "gmaps = googlemaps.Client(key=tova_key)"
   ]
  },
  {
   "cell_type": "code",
   "execution_count": 53,
   "metadata": {},
   "outputs": [],
   "source": [
    "# Request directions via public transit\n",
    "now = datetime.now()\n",
    "distance_result = gmaps.distance_matrix(\"Sydney Town Hall\",\n",
    "                                     \"Parramatta, NSW\",\n",
    "                                     mode=\"transit\",\n",
    "                                     departure_time=now)"
   ]
  },
  {
   "cell_type": "code",
   "execution_count": 54,
   "metadata": {},
   "outputs": [
    {
     "name": "stdout",
     "output_type": "stream",
     "text": [
      "{'destination_addresses': ['Parramatta NSW 2150, Australia'], 'origin_addresses': ['483 George St, Sydney NSW 2000, Australia'], 'rows': [{'elements': [{'distance': {'text': '24.7 km', 'value': 24686}, 'duration': {'text': '49 mins', 'value': 2926}, 'status': 'OK'}]}], 'status': 'OK'}\n"
     ]
    }
   ],
   "source": [
    "print(distance_result)"
   ]
  },
  {
   "cell_type": "code",
   "execution_count": 55,
   "metadata": {},
   "outputs": [
    {
     "name": "stdout",
     "output_type": "stream",
     "text": [
      "{\n",
      "    \"destination_addresses\": [\n",
      "        \"Parramatta NSW 2150, Australia\"\n",
      "    ],\n",
      "    \"origin_addresses\": [\n",
      "        \"483 George St, Sydney NSW 2000, Australia\"\n",
      "    ],\n",
      "    \"rows\": [\n",
      "        {\n",
      "            \"elements\": [\n",
      "                {\n",
      "                    \"distance\": {\n",
      "                        \"text\": \"24.7 km\",\n",
      "                        \"value\": 24686\n",
      "                    },\n",
      "                    \"duration\": {\n",
      "                        \"text\": \"49 mins\",\n",
      "                        \"value\": 2926\n",
      "                    },\n",
      "                    \"status\": \"OK\"\n",
      "                }\n",
      "            ]\n",
      "        }\n",
      "    ],\n",
      "    \"status\": \"OK\"\n",
      "}\n"
     ]
    }
   ],
   "source": [
    "print(json.dumps(directions_result, sort_keys=True, indent=4))"
   ]
  },
  {
   "cell_type": "code",
   "execution_count": null,
   "metadata": {},
   "outputs": [],
   "source": []
  }
 ],
 "metadata": {
  "kernelspec": {
   "display_name": "google_maps_env",
   "language": "python",
   "name": "google_maps_env"
  },
  "language_info": {
   "codemirror_mode": {
    "name": "ipython",
    "version": 3
   },
   "file_extension": ".py",
   "mimetype": "text/x-python",
   "name": "python",
   "nbconvert_exporter": "python",
   "pygments_lexer": "ipython3",
   "version": "3.7.0"
  }
 },
 "nbformat": 4,
 "nbformat_minor": 4
}
